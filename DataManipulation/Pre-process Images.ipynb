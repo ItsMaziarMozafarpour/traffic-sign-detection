{
 "cells": [
  {
   "cell_type": "code",
   "execution_count": 1,
   "id": "tested-fleece",
   "metadata": {},
   "outputs": [],
   "source": [
    "import pandas as pd\n",
    "import os\n",
    "import cv2 as cv\n",
    "import tensorflow as tf\n",
    "from tensorflow.train import Example , Int64List , BytesList , FeatureList , Features \n",
    "import xml.etree.cElementTree as ET\n",
    "from PIL import Image"
   ]
  },
  {
   "cell_type": "markdown",
   "id": "herbal-interim",
   "metadata": {},
   "source": [
    "# -----------------------------------\n",
    "# Create jpg images from ppm images :"
   ]
  },
  {
   "cell_type": "code",
   "execution_count": 2,
   "id": "productive-nancy",
   "metadata": {},
   "outputs": [],
   "source": [
    "data_dir = '../data/TrainIJCNN2013/'\n",
    "data_info_dir = '../data/TrainIJCNN2013/data_info.csv'\n",
    "data_info_df = pd.read_csv(data_info_dir)\n",
    "final_df = pd.DataFrame(columns=data_info_df.columns)"
   ]
  },
  {
   "cell_type": "code",
   "execution_count": 3,
   "id": "partial-intermediate",
   "metadata": {},
   "outputs": [
    {
     "name": "stderr",
     "output_type": "stream",
     "text": [
      "<ipython-input-3-16cd3cf7d9f3>:2: SettingWithCopyWarning: \n",
      "A value is trying to be set on a copy of a slice from a DataFrame\n",
      "\n",
      "See the caveats in the documentation: https://pandas.pydata.org/pandas-docs/stable/user_guide/indexing.html#returning-a-view-versus-a-copy\n",
      "  data_info_df['path'][i] = data_info_df['path'][i][:-4]\n"
     ]
    }
   ],
   "source": [
    "for i in range(len(data_info_df)):\n",
    "    data_info_df['path'][i] = data_info_df['path'][i][:-4]"
   ]
  },
  {
   "cell_type": "code",
   "execution_count": 4,
   "id": "specific-leisure",
   "metadata": {},
   "outputs": [],
   "source": [
    "for current_dir , dirs ,files in os.walk(data_dir):\n",
    "    for f in files:\n",
    "        if f.endswith('.ppm'):\n",
    "            image_name = f[:-4]\n",
    "            image = cv.imread(data_dir + f)\n",
    "            single_data_line = data_info_df.loc[data_info_df['path'] == f[:-4]].copy()\n",
    "            if single_data_line.isnull().values.all():\n",
    "                os.remove(data_dir + f)\n",
    "            else:\n",
    "                final_df = final_df.append(single_data_line)\n",
    "                save_path = \"../data/Images/\" + image_name + '.jpg'\n",
    "                if not os.path.isfile(save_path):\n",
    "                    cv.imwrite(save_path,image)"
   ]
  },
  {
   "cell_type": "code",
   "execution_count": 5,
   "id": "healthy-consultancy",
   "metadata": {},
   "outputs": [],
   "source": [
    "final_df = final_df[~final_df.index.duplicated(keep='first')]\n",
    "final_df.sort_index(inplace=True)"
   ]
  },
  {
   "cell_type": "code",
   "execution_count": 6,
   "id": "eight-ghost",
   "metadata": {},
   "outputs": [
    {
     "name": "stdout",
     "output_type": "stream",
     "text": [
      "Writing ../data/obj.names\n"
     ]
    }
   ],
   "source": [
    "%%writefile ../data/obj.names\n",
    "prohibitory\n",
    "danger\n",
    "mandatory\n",
    "other"
   ]
  },
  {
   "cell_type": "markdown",
   "id": "federal-clearance",
   "metadata": {},
   "source": [
    "# -----------------------------------\n",
    "# Creating annotations files :"
   ]
  },
  {
   "cell_type": "code",
   "execution_count": 7,
   "id": "optimum-thirty",
   "metadata": {},
   "outputs": [],
   "source": [
    "ANNOTATIONS_DIR_PREFIX = \"../data/Images\"\n",
    "DESTINATION_DIR = \"../data/XML\"\n",
    "CLASS_MAPPING = {\n",
    "    '0' : 'prohibitory',\n",
    "    '1' : 'danger' ,\n",
    "    '2' : 'mandatory' ,\n",
    "    '3' : 'other' ,\n",
    "}"
   ]
  },
  {
   "cell_type": "code",
   "execution_count": 8,
   "id": "honey-newspaper",
   "metadata": {},
   "outputs": [],
   "source": [
    "def create_root(filename, width, height):\n",
    "    root = ET.Element(\"annotation\")\n",
    "    ET.SubElement(root, \"folder\").text = \"Images\"\n",
    "    ET.SubElement(root, \"filename\").text = (filename)\n",
    "    ET.SubElement(root, \"path\").text = \"../data/Images/{}\".format(filename)\n",
    "    source = ET.SubElement(root, \"source\")\n",
    "    ET.SubElement(source, \"database\").text = \"Unknown\"\n",
    "    size = ET.SubElement(root, \"size\")\n",
    "    ET.SubElement(size, \"width\").text = str(width)\n",
    "    ET.SubElement(size, \"height\").text = str(height)\n",
    "    ET.SubElement(size, \"depth\").text = \"3\"\n",
    "    ET.SubElement(root, \"segmented\").text = \"0\"\n",
    "    return root\n",
    "# ---------------------------------------------------\n",
    "def create_object_annotation(root, voc):\n",
    "    for ind,voc_label in voc.iterrows():\n",
    "        obj = ET.SubElement(root, \"object\")\n",
    "        ET.SubElement(obj, \"name\").text=str(CLASS_MAPPING.get(str(voc_label[\"id\"])))\n",
    "        ET.SubElement(obj, \"pose\").text = \"Unspecified\"\n",
    "        ET.SubElement(obj, \"truncated\").text = str(0)\n",
    "        ET.SubElement(obj, \"difficult\").text = str(0)\n",
    "        bbox = ET.SubElement(obj, \"bndbox\")\n",
    "        ET.SubElement(bbox, \"xmin\").text = str(voc_label[\"left\"])\n",
    "        ET.SubElement(bbox, \"ymin\").text = str(voc_label[\"top\"])\n",
    "        ET.SubElement(bbox, \"xmax\").text = str(voc_label[\"right\"])\n",
    "        ET.SubElement(bbox, \"ymax\").text = str(voc_label[\"bottom\"])\n",
    "    if(len(voc)==0):\n",
    "        print(voc)\n",
    "        print('no')\n",
    "    return root\n",
    "# ---------------------------------------------------\n",
    "def create_file(filename, width, height, voc):\n",
    "    root = create_root(filename, width, height)\n",
    "    root = create_object_annotation(root, voc)\n",
    "    tree = ET.ElementTree(root)\n",
    "    tree.write(\"{}/{}.xml\".format(DESTINATION_DIR, filename[:-4]))\n",
    "# ---------------------------------------------------\n",
    "def read_file(filename):\n",
    "    img = cv.imread(\"{}/{}\".format(\"../data/Images/\", filename))\n",
    "    w,h=img.shape[:2]\n",
    "    voc = final_df.loc[final_df.path == filename[:-4]].copy()\n",
    "    voc[\"name\"] = CLASS_MAPPING.get(str((voc[\"id\"])))\n",
    "    create_file(filename, w, h, voc)\n",
    "# ---------------------------------------------------\n",
    "def start():\n",
    "    if not os.path.exists(DESTINATION_DIR):\n",
    "        os.makedirs(DESTINATION_DIR)\n",
    "    for filename in os.listdir(ANNOTATIONS_DIR_PREFIX):\n",
    "          if filename.endswith(\".jpg\"):\n",
    "            read_file(filename)"
   ]
  },
  {
   "cell_type": "code",
   "execution_count": 9,
   "id": "supreme-heather",
   "metadata": {},
   "outputs": [],
   "source": [
    "start()"
   ]
  },
  {
   "cell_type": "code",
   "execution_count": null,
   "id": "blank-aurora",
   "metadata": {},
   "outputs": [],
   "source": []
  }
 ],
 "metadata": {
  "kernelspec": {
   "display_name": "Python 3",
   "language": "python",
   "name": "python3"
  },
  "language_info": {
   "codemirror_mode": {
    "name": "ipython",
    "version": 3
   },
   "file_extension": ".py",
   "mimetype": "text/x-python",
   "name": "python",
   "nbconvert_exporter": "python",
   "pygments_lexer": "ipython3",
   "version": "3.8.5"
  }
 },
 "nbformat": 4,
 "nbformat_minor": 5
}
